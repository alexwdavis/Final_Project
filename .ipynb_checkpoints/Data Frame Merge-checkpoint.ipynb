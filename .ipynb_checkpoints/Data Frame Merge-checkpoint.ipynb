{
 "cells": [
  {
   "cell_type": "code",
   "execution_count": 47,
   "metadata": {},
   "outputs": [],
   "source": [
    "import pandas as pd"
   ]
  },
  {
   "cell_type": "code",
   "execution_count": 48,
   "metadata": {},
   "outputs": [],
   "source": [
    "oscars_df = pd.read_csv(\"Resources/Oscar_Awards.csv\")\n",
    "boxoffice_df = pd.read_csv(\"Resources/movie_list_all_backup.csv\")\n",
    "all_movies = pd.read_csv(\"Resources/Movies_DF.csv\")"
   ]
  },
  {
   "cell_type": "code",
   "execution_count": 50,
   "metadata": {},
   "outputs": [
    {
     "data": {
      "text/html": [
       "<div>\n",
       "<style scoped>\n",
       "    .dataframe tbody tr th:only-of-type {\n",
       "        vertical-align: middle;\n",
       "    }\n",
       "\n",
       "    .dataframe tbody tr th {\n",
       "        vertical-align: top;\n",
       "    }\n",
       "\n",
       "    .dataframe thead th {\n",
       "        text-align: right;\n",
       "    }\n",
       "</style>\n",
       "<table border=\"1\" class=\"dataframe\">\n",
       "  <thead>\n",
       "    <tr style=\"text-align: right;\">\n",
       "      <th></th>\n",
       "      <th>Title</th>\n",
       "      <th>Year</th>\n",
       "      <th>Awards</th>\n",
       "      <th>Nominations</th>\n",
       "      <th>Unnamed: 0</th>\n",
       "      <th>Rank</th>\n",
       "      <th>Release Year</th>\n",
       "      <th>Worldwide Box Office</th>\n",
       "      <th>Domestic Box Office</th>\n",
       "      <th>International Box Office</th>\n",
       "    </tr>\n",
       "  </thead>\n",
       "  <tbody>\n",
       "    <tr>\n",
       "      <th>0</th>\n",
       "      <td>Black Panther</td>\n",
       "      <td>2018.0</td>\n",
       "      <td>3.0</td>\n",
       "      <td>7.0</td>\n",
       "      <td>10</td>\n",
       "      <td>10</td>\n",
       "      <td>2018.0</td>\n",
       "      <td>$1,348,258,224</td>\n",
       "      <td>$700,059,566</td>\n",
       "      <td>$648,198,658</td>\n",
       "    </tr>\n",
       "    <tr>\n",
       "      <th>1</th>\n",
       "      <td>BlacKkKlansman</td>\n",
       "      <td>2018.0</td>\n",
       "      <td>1.0</td>\n",
       "      <td>6.0</td>\n",
       "      <td>61</td>\n",
       "      <td>1,681</td>\n",
       "      <td>2018.0</td>\n",
       "      <td>$92,616,701</td>\n",
       "      <td>$49,275,340</td>\n",
       "      <td>$43,341,361</td>\n",
       "    </tr>\n",
       "    <tr>\n",
       "      <th>2</th>\n",
       "      <td>Bohemian Rhapsody</td>\n",
       "      <td>2018.0</td>\n",
       "      <td>4.0</td>\n",
       "      <td>5.0</td>\n",
       "      <td>34</td>\n",
       "      <td>54</td>\n",
       "      <td>2018.0</td>\n",
       "      <td>$900,910,760</td>\n",
       "      <td>$216,303,339</td>\n",
       "      <td>$684,607,421</td>\n",
       "    </tr>\n",
       "    <tr>\n",
       "      <th>3</th>\n",
       "      <td>First Man</td>\n",
       "      <td>2018.0</td>\n",
       "      <td>1.0</td>\n",
       "      <td>4.0</td>\n",
       "      <td>48</td>\n",
       "      <td>1,468</td>\n",
       "      <td>2018.0</td>\n",
       "      <td>$105,203,825</td>\n",
       "      <td>$44,936,545</td>\n",
       "      <td>$60,267,280</td>\n",
       "    </tr>\n",
       "    <tr>\n",
       "      <th>4</th>\n",
       "      <td>Free Solo</td>\n",
       "      <td>2018.0</td>\n",
       "      <td>1.0</td>\n",
       "      <td>1.0</td>\n",
       "      <td>60</td>\n",
       "      <td>4,580</td>\n",
       "      <td>2018.0</td>\n",
       "      <td>$21,786,658</td>\n",
       "      <td>$17,539,736</td>\n",
       "      <td>$4,246,922</td>\n",
       "    </tr>\n",
       "  </tbody>\n",
       "</table>\n",
       "</div>"
      ],
      "text/plain": [
       "               Title    Year  Awards  Nominations  Unnamed: 0   Rank  \\\n",
       "0      Black Panther  2018.0     3.0          7.0          10     10   \n",
       "1     BlacKkKlansman  2018.0     1.0          6.0          61  1,681   \n",
       "2  Bohemian Rhapsody  2018.0     4.0          5.0          34     54   \n",
       "3          First Man  2018.0     1.0          4.0          48  1,468   \n",
       "4          Free Solo  2018.0     1.0          1.0          60  4,580   \n",
       "\n",
       "   Release Year Worldwide Box Office Domestic Box Office  \\\n",
       "0        2018.0      $1,348,258,224        $700,059,566    \n",
       "1        2018.0         $92,616,701         $49,275,340    \n",
       "2        2018.0        $900,910,760        $216,303,339    \n",
       "3        2018.0        $105,203,825         $44,936,545    \n",
       "4        2018.0         $21,786,658         $17,539,736    \n",
       "\n",
       "  International Box Office  \n",
       "0            $648,198,658   \n",
       "1             $43,341,361   \n",
       "2            $684,607,421   \n",
       "3             $60,267,280   \n",
       "4              $4,246,922   "
      ]
     },
     "execution_count": 50,
     "metadata": {},
     "output_type": "execute_result"
    }
   ],
   "source": [
    "oscar_boxoffice_df = pd.merge(oscars_df, boxoffice_df, how='right')\n",
    "oscar_boxoffice_df.head()"
   ]
  },
  {
   "cell_type": "code",
   "execution_count": null,
   "metadata": {},
   "outputs": [],
   "source": [
    "combined_df = pd.merge(oscar_boxoffice_df)"
   ]
  },
  {
   "cell_type": "code",
   "execution_count": 46,
   "metadata": {},
   "outputs": [],
   "source": [
    "combined_df.to_csv('combined.csv')"
   ]
  },
  {
   "cell_type": "code",
   "execution_count": 19,
   "metadata": {},
   "outputs": [
    {
     "ename": "NameError",
     "evalue": "name 'movie_df' is not defined",
     "output_type": "error",
     "traceback": [
      "\u001b[0;31m---------------------------------------------------------------------------\u001b[0m",
      "\u001b[0;31mNameError\u001b[0m                                 Traceback (most recent call last)",
      "\u001b[0;32m<ipython-input-19-57e8431a50e6>\u001b[0m in \u001b[0;36m<module>\u001b[0;34m()\u001b[0m\n\u001b[1;32m      5\u001b[0m \u001b[0;34m\u001b[0m\u001b[0m\n\u001b[1;32m      6\u001b[0m \u001b[0;34m\u001b[0m\u001b[0m\n\u001b[0;32m----> 7\u001b[0;31m \u001b[0mmovie_df\u001b[0m\u001b[0;34m.\u001b[0m\u001b[0mto_sql\u001b[0m\u001b[0;34m(\u001b[0m\u001b[0;34m'movie_info'\u001b[0m\u001b[0;34m,\u001b[0m \u001b[0mcon\u001b[0m\u001b[0;34m=\u001b[0m\u001b[0mengine\u001b[0m\u001b[0;34m)\u001b[0m\u001b[0;34m\u001b[0m\u001b[0;34m\u001b[0m\u001b[0m\n\u001b[0m\u001b[1;32m      8\u001b[0m \u001b[0mengine\u001b[0m\u001b[0;34m.\u001b[0m\u001b[0mexecute\u001b[0m\u001b[0;34m(\u001b[0m\u001b[0;34m\"SELECT * FROM movie_info\"\u001b[0m\u001b[0;34m)\u001b[0m\u001b[0;34m.\u001b[0m\u001b[0mfetchall\u001b[0m\u001b[0;34m(\u001b[0m\u001b[0;34m)\u001b[0m\u001b[0;34m\u001b[0m\u001b[0;34m\u001b[0m\u001b[0m\n",
      "\u001b[0;31mNameError\u001b[0m: name 'movie_df' is not defined"
     ]
    }
   ],
   "source": [
    "from sqlalchemy import create_engine\n",
    "\n",
    "\n",
    "engine = create_engine('sqlite:///movies_DB.sqlite', echo=False)\n",
    "\n",
    "\n",
    "movie_df.to_sql('movie_info', con=engine)\n",
    "engine.execute(\"SELECT * FROM movie_info\").fetchall()"
   ]
  },
  {
   "cell_type": "code",
   "execution_count": null,
   "metadata": {},
   "outputs": [],
   "source": []
  }
 ],
 "metadata": {
  "kernelspec": {
   "display_name": "Python 3",
   "language": "python",
   "name": "python3"
  },
  "language_info": {
   "codemirror_mode": {
    "name": "ipython",
    "version": 3
   },
   "file_extension": ".py",
   "mimetype": "text/x-python",
   "name": "python",
   "nbconvert_exporter": "python",
   "pygments_lexer": "ipython3",
   "version": "3.6.8"
  }
 },
 "nbformat": 4,
 "nbformat_minor": 2
}
