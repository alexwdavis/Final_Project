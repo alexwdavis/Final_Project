{
 "cells": [
  {
   "cell_type": "code",
   "execution_count": 42,
   "metadata": {},
   "outputs": [],
   "source": [
    "import pandas as pd"
   ]
  },
  {
   "cell_type": "code",
   "execution_count": 43,
   "metadata": {},
   "outputs": [],
   "source": [
    "oscars_df = pd.read_csv(\"Resources/Oscar_Awards.csv\")\n",
    "boxoffice_df = pd.read_csv(\"Resources/movie_list_all_backup.csv\")\n",
    "all_movies_df = pd.read_csv(\"Resources/Movie_DF_2.csv\")"
   ]
  },
  {
   "cell_type": "code",
   "execution_count": 44,
   "metadata": {},
   "outputs": [],
   "source": [
    "movies_boxoffice_df = pd.merge(all_movies_df, boxoffice_df, how='inner')\n",
    "movies_boxoffice_df.head()\n",
    "movies_boxoffice_df.to_csv('movies_boxoffice.csv')"
   ]
  },
  {
   "cell_type": "code",
   "execution_count": 45,
   "metadata": {},
   "outputs": [
    {
     "data": {
      "text/html": [
       "<div>\n",
       "<style scoped>\n",
       "    .dataframe tbody tr th:only-of-type {\n",
       "        vertical-align: middle;\n",
       "    }\n",
       "\n",
       "    .dataframe tbody tr th {\n",
       "        vertical-align: top;\n",
       "    }\n",
       "\n",
       "    .dataframe thead th {\n",
       "        text-align: right;\n",
       "    }\n",
       "</style>\n",
       "<table border=\"1\" class=\"dataframe\">\n",
       "  <thead>\n",
       "    <tr style=\"text-align: right;\">\n",
       "      <th></th>\n",
       "      <th>Title</th>\n",
       "      <th>Actors</th>\n",
       "      <th>Box Office</th>\n",
       "      <th>Country</th>\n",
       "      <th>Director</th>\n",
       "      <th>Genre</th>\n",
       "      <th>IMDB</th>\n",
       "      <th>Language</th>\n",
       "      <th>Metacritic</th>\n",
       "      <th>Production</th>\n",
       "      <th>...</th>\n",
       "      <th>Writer</th>\n",
       "      <th>Year</th>\n",
       "      <th>Unnamed: 0</th>\n",
       "      <th>Rank</th>\n",
       "      <th>Release Year</th>\n",
       "      <th>Worldwide Box Office</th>\n",
       "      <th>Domestic Box Office</th>\n",
       "      <th>International Box Office</th>\n",
       "      <th>Awards</th>\n",
       "      <th>Nominations</th>\n",
       "    </tr>\n",
       "  </thead>\n",
       "  <tbody>\n",
       "    <tr>\n",
       "      <th>0</th>\n",
       "      <td>Pulp Fiction</td>\n",
       "      <td>Tim Roth, Amanda Plummer, Laura Lovelace, John...</td>\n",
       "      <td>NaN</td>\n",
       "      <td>USA</td>\n",
       "      <td>Quentin Tarantino</td>\n",
       "      <td>Crime, Drama</td>\n",
       "      <td>8.9/10</td>\n",
       "      <td>English, Spanish, French</td>\n",
       "      <td>94/100</td>\n",
       "      <td>Miramax Films</td>\n",
       "      <td>...</td>\n",
       "      <td>Quentin Tarantino (stories), Roger Avary (stor...</td>\n",
       "      <td>1994</td>\n",
       "      <td>6</td>\n",
       "      <td>726</td>\n",
       "      <td>1994.0</td>\n",
       "      <td>$212,928,762</td>\n",
       "      <td>$107,928,762</td>\n",
       "      <td>$105,000,000</td>\n",
       "      <td>1.0</td>\n",
       "      <td>7.0</td>\n",
       "    </tr>\n",
       "    <tr>\n",
       "      <th>1</th>\n",
       "      <td>The Amazing Spider-Man 2</td>\n",
       "      <td>Andrew Garfield, Emma Stone, Jamie Foxx, Dane ...</td>\n",
       "      <td>183277573.0</td>\n",
       "      <td>USA</td>\n",
       "      <td>Marc Webb</td>\n",
       "      <td>Action, Adventure, Sci-Fi</td>\n",
       "      <td>6.6/10</td>\n",
       "      <td>English</td>\n",
       "      <td>53/100</td>\n",
       "      <td>Sony Pictures</td>\n",
       "      <td>...</td>\n",
       "      <td>Alex Kurtzman (screenplay), Roberto Orci (scre...</td>\n",
       "      <td>2014</td>\n",
       "      <td>7</td>\n",
       "      <td>107</td>\n",
       "      <td>2014.0</td>\n",
       "      <td>$708,996,336</td>\n",
       "      <td>$202,853,933</td>\n",
       "      <td>$506,142,403</td>\n",
       "      <td>NaN</td>\n",
       "      <td>NaN</td>\n",
       "    </tr>\n",
       "    <tr>\n",
       "      <th>2</th>\n",
       "      <td>The Shawshank Redemption</td>\n",
       "      <td>Tim Robbins, Morgan Freeman, Bob Gunton, Willi...</td>\n",
       "      <td>NaN</td>\n",
       "      <td>USA</td>\n",
       "      <td>Frank Darabont</td>\n",
       "      <td>Drama</td>\n",
       "      <td>9.3/10</td>\n",
       "      <td>English</td>\n",
       "      <td>80/100</td>\n",
       "      <td>Columbia Pictures</td>\n",
       "      <td>...</td>\n",
       "      <td>Stephen King (short story \"Rita Hayworth and S...</td>\n",
       "      <td>1994</td>\n",
       "      <td>15</td>\n",
       "      <td>3,935</td>\n",
       "      <td>1994.0</td>\n",
       "      <td>$28,307,092</td>\n",
       "      <td>$28,241,469</td>\n",
       "      <td>$65,623</td>\n",
       "      <td>NaN</td>\n",
       "      <td>NaN</td>\n",
       "    </tr>\n",
       "    <tr>\n",
       "      <th>3</th>\n",
       "      <td>Back to the Future</td>\n",
       "      <td>Michael J. Fox, Christopher Lloyd, Lea Thompso...</td>\n",
       "      <td>2925880.0</td>\n",
       "      <td>USA</td>\n",
       "      <td>Robert Zemeckis</td>\n",
       "      <td>Adventure, Comedy, Sci-Fi</td>\n",
       "      <td>8.5/10</td>\n",
       "      <td>English</td>\n",
       "      <td>87/100</td>\n",
       "      <td>Universal Pictures</td>\n",
       "      <td>...</td>\n",
       "      <td>Robert Zemeckis, Bob Gale</td>\n",
       "      <td>1985</td>\n",
       "      <td>1</td>\n",
       "      <td>301</td>\n",
       "      <td>1985.0</td>\n",
       "      <td>$385,524,784</td>\n",
       "      <td>$212,259,762</td>\n",
       "      <td>$173,265,022</td>\n",
       "      <td>1.0</td>\n",
       "      <td>4.0</td>\n",
       "    </tr>\n",
       "    <tr>\n",
       "      <th>4</th>\n",
       "      <td>The Breakfast Club</td>\n",
       "      <td>Emilio Estevez, Paul Gleason, Anthony Michael ...</td>\n",
       "      <td>NaN</td>\n",
       "      <td>USA</td>\n",
       "      <td>John Hughes</td>\n",
       "      <td>Comedy, Drama</td>\n",
       "      <td>7.9/10</td>\n",
       "      <td>English</td>\n",
       "      <td>62/100</td>\n",
       "      <td>Universal Pictures</td>\n",
       "      <td>...</td>\n",
       "      <td>John Hughes</td>\n",
       "      <td>1985</td>\n",
       "      <td>37</td>\n",
       "      <td>2,857</td>\n",
       "      <td>1985.0</td>\n",
       "      <td>$45,875,171</td>\n",
       "      <td>$45,875,171</td>\n",
       "      <td>$0</td>\n",
       "      <td>NaN</td>\n",
       "      <td>NaN</td>\n",
       "    </tr>\n",
       "  </tbody>\n",
       "</table>\n",
       "<p>5 rows × 25 columns</p>\n",
       "</div>"
      ],
      "text/plain": [
       "                      Title  \\\n",
       "0              Pulp Fiction   \n",
       "1  The Amazing Spider-Man 2   \n",
       "2  The Shawshank Redemption   \n",
       "3        Back to the Future   \n",
       "4        The Breakfast Club   \n",
       "\n",
       "                                              Actors   Box Office Country  \\\n",
       "0  Tim Roth, Amanda Plummer, Laura Lovelace, John...          NaN     USA   \n",
       "1  Andrew Garfield, Emma Stone, Jamie Foxx, Dane ...  183277573.0     USA   \n",
       "2  Tim Robbins, Morgan Freeman, Bob Gunton, Willi...          NaN     USA   \n",
       "3  Michael J. Fox, Christopher Lloyd, Lea Thompso...    2925880.0     USA   \n",
       "4  Emilio Estevez, Paul Gleason, Anthony Michael ...          NaN     USA   \n",
       "\n",
       "            Director                      Genre    IMDB  \\\n",
       "0  Quentin Tarantino               Crime, Drama  8.9/10   \n",
       "1          Marc Webb  Action, Adventure, Sci-Fi  6.6/10   \n",
       "2     Frank Darabont                      Drama  9.3/10   \n",
       "3    Robert Zemeckis  Adventure, Comedy, Sci-Fi  8.5/10   \n",
       "4        John Hughes              Comedy, Drama  7.9/10   \n",
       "\n",
       "                   Language Metacritic          Production     ...       \\\n",
       "0  English, Spanish, French     94/100       Miramax Films     ...        \n",
       "1                   English     53/100       Sony Pictures     ...        \n",
       "2                   English     80/100   Columbia Pictures     ...        \n",
       "3                   English     87/100  Universal Pictures     ...        \n",
       "4                   English     62/100  Universal Pictures     ...        \n",
       "\n",
       "                                              Writer  Year Unnamed: 0   Rank  \\\n",
       "0  Quentin Tarantino (stories), Roger Avary (stor...  1994          6    726   \n",
       "1  Alex Kurtzman (screenplay), Roberto Orci (scre...  2014          7    107   \n",
       "2  Stephen King (short story \"Rita Hayworth and S...  1994         15  3,935   \n",
       "3                          Robert Zemeckis, Bob Gale  1985          1    301   \n",
       "4                                        John Hughes  1985         37  2,857   \n",
       "\n",
       "  Release Year Worldwide Box Office Domestic Box Office  \\\n",
       "0       1994.0        $212,928,762        $107,928,762    \n",
       "1       2014.0        $708,996,336        $202,853,933    \n",
       "2       1994.0         $28,307,092         $28,241,469    \n",
       "3       1985.0        $385,524,784        $212,259,762    \n",
       "4       1985.0         $45,875,171         $45,875,171    \n",
       "\n",
       "   International Box Office Awards  Nominations  \n",
       "0             $105,000,000     1.0          7.0  \n",
       "1             $506,142,403     NaN          NaN  \n",
       "2                  $65,623     NaN          NaN  \n",
       "3             $173,265,022     1.0          4.0  \n",
       "4                       $0     NaN          NaN  \n",
       "\n",
       "[5 rows x 25 columns]"
      ]
     },
     "execution_count": 45,
     "metadata": {},
     "output_type": "execute_result"
    }
   ],
   "source": [
    "combined_df = pd.merge(movies_boxoffice_df, oscars_df, how='left')\n",
    "combined_df.head()"
   ]
  },
  {
   "cell_type": "code",
   "execution_count": 46,
   "metadata": {},
   "outputs": [],
   "source": [
    "combined_df.to_csv('combined.csv')"
   ]
  },
  {
   "cell_type": "code",
   "execution_count": 57,
   "metadata": {},
   "outputs": [
    {
     "ename": "AttributeError",
     "evalue": "type object 'type' has no attribute 'df'",
     "output_type": "error",
     "traceback": [
      "\u001b[0;31m---------------------------------------------------------------------------\u001b[0m",
      "\u001b[0;31mAttributeError\u001b[0m                            Traceback (most recent call last)",
      "\u001b[0;32m<ipython-input-57-38b046f474a4>\u001b[0m in \u001b[0;36m<module>\u001b[0;34m()\u001b[0m\n\u001b[0;32m----> 1\u001b[0;31m \u001b[0mtype\u001b[0m\u001b[0;34m.\u001b[0m\u001b[0mdf\u001b[0m\u001b[0;34m\u001b[0m\u001b[0;34m\u001b[0m\u001b[0m\n\u001b[0m",
      "\u001b[0;31mAttributeError\u001b[0m: type object 'type' has no attribute 'df'"
     ]
    }
   ],
   "source": [
    "type.df"
   ]
  },
  {
   "cell_type": "code",
   "execution_count": 53,
   "metadata": {},
   "outputs": [
    {
     "ename": "SyntaxError",
     "evalue": "invalid syntax (<ipython-input-53-bafeed1705e9>, line 1)",
     "output_type": "error",
     "traceback": [
      "\u001b[0;36m  File \u001b[0;32m\"<ipython-input-53-bafeed1705e9>\"\u001b[0;36m, line \u001b[0;32m1\u001b[0m\n\u001b[0;31m    combined_df['IMDB'] = combined_df[\"IMDB\"].map(lambda x: x.lstrip(''-3').rstrip('aAbBcC'))\u001b[0m\n\u001b[0m                                                                                   ^\u001b[0m\n\u001b[0;31mSyntaxError\u001b[0m\u001b[0;31m:\u001b[0m invalid syntax\n"
     ]
    }
   ],
   "source": [
    "combined_df['Worldwide Box Office'] = df['Worldwide Box Office'].map(lambda x: re.sub(r'\\', '', x))\n",
    "combined_df.head()"
   ]
  },
  {
   "cell_type": "code",
   "execution_count": 12,
   "metadata": {},
   "outputs": [
    {
     "data": {
      "text/plain": [
       "Title                        202\n",
       "Actors                      6471\n",
       "Box Office                  8596\n",
       "Country                     6471\n",
       "Director                    6499\n",
       "Genre                       6471\n",
       "IMDB                        6471\n",
       "Language                    6473\n",
       "Metacritic                  7355\n",
       "Production                  6571\n",
       "Rated                       6477\n",
       "Released                    6475\n",
       "Rotten Tomatoes             6559\n",
       "Runtime                     6471\n",
       "Type                        6471\n",
       "Writer                      6479\n",
       "Year                        6471\n",
       "Unnamed: 0                     0\n",
       "Rank                         202\n",
       "Release Year                 202\n",
       "Worldwide Box Office         202\n",
       "Domestic Box Office          202\n",
       "International Box Office     202\n",
       "Awards                      9679\n",
       "Nominations                 9679\n",
       "dtype: int64"
      ]
     },
     "execution_count": 12,
     "metadata": {},
     "output_type": "execute_result"
    }
   ],
   "source": [
    "combined_df.isna().sum()"
   ]
  },
  {
   "cell_type": "code",
   "execution_count": null,
   "metadata": {},
   "outputs": [],
   "source": [
    "from sqlalchemy import create_engine\n",
    "\n",
    "\n",
    "engine = create_engine('sqlite:///movies_DB.sqlite', echo=False)\n",
    "\n",
    "\n",
    "movie_df.to_sql('movie_info', con=engine)\n",
    "engine.execute(\"SELECT * FROM movie_info\").fetchall()"
   ]
  },
  {
   "cell_type": "code",
   "execution_count": 2,
   "metadata": {},
   "outputs": [],
   "source": [
    "df = (\"Armenian\tPolish\tMaori\tQuenya\tMohawk\tHungarian\tCzech\tGerman\tBengali\tCentral American Indian languages\tSerbo-Croatian\tLatin\tFilipino\tWelsh\tMandarin\tNorth American Indian\tNorwegian\tPushto\tKhmer\tBrazilian Sign Language\tKlingon\tChechen\tApache languages\tDanish\tRomany\tSyriac\tItalian\tPersian\tAboriginal\tSwedish\tJapanese\tCroatian\tNyanja\tDari\tVietnamese\tMalay\tHindi\tPawnee\tAfrikaans\tSicilian\tFrench\tSign Languages\tBulgarian\tFinnish\tSioux\tPortuguese\tOld English\tAssyrian Neo-Aramaic\tSerbian\tChinese\tUrdu\tSomali\tNorse\tBritish Sign Language\tEnglish\tGujarati\tRussian\tBurmese\tLao\tHawaiian\tSouthern Sotho\tOld\tTagalog\tGeorgian\tMaya\tCantonese\tTibetan\tAmharic\tTok Pisin\tAlbanian\tShanghainese\tIcelandic\tBelarusian\tRomanian\tDutch\tAmerican Sign Language\tGreek\tSindarin\tKurdish\tEgyptian (Ancient)\tSwahili\tPunjabi\tTurkish\tGreenlandic\tSanskrit\tHmong\tEsperanto\tArabic\tSinhalese\tKorean\tXhosa\tAramaic\tMende\tSwiss German\tThai\tScottish Gaelic\tHebrew\tUkrainian\tEstonian\tTamil\tUngwatsi\tLuxembourgish\tYiddish\tSlovak\tIndonesian\tSpanish\tIrish\tZulu\tNavajo\tInuktitut\tBosnian\")"
   ]
  },
  {
   "cell_type": "code",
   "execution_count": 7,
   "metadata": {},
   "outputs": [
    {
     "data": {
      "text/plain": [
       "'Armenian\",\"Polish\",\"Maori\",\"Quenya\",\"Mohawk\",\"Hungarian\",\"Czech\",\"German\",\"Bengali\",\"Central American Indian languages\",\"Serbo-Croatian\",\"Latin\",\"Filipino\",\"Welsh\",\"Mandarin\",\"North American Indian\",\"Norwegian\",\"Pushto\",\"Khmer\",\"Brazilian Sign Language\",\"Klingon\",\"Chechen\",\"Apache languages\",\"Danish\",\"Romany\",\"Syriac\",\"Italian\",\"Persian\",\"Aboriginal\",\"Swedish\",\"Japanese\",\"Croatian\",\"Nyanja\",\"Dari\",\"Vietnamese\",\"Malay\",\"Hindi\",\"Pawnee\",\"Afrikaans\",\"Sicilian\",\"French\",\"Sign Languages\",\"Bulgarian\",\"Finnish\",\"Sioux\",\"Portuguese\",\"Old English\",\"Assyrian Neo-Aramaic\",\"Serbian\",\"Chinese\",\"Urdu\",\"Somali\",\"Norse\",\"British Sign Language\",\"English\",\"Gujarati\",\"Russian\",\"Burmese\",\"Lao\",\"Hawaiian\",\"Southern Sotho\",\"Old\",\"Tagalog\",\"Georgian\",\"Maya\",\"Cantonese\",\"Tibetan\",\"Amharic\",\"Tok Pisin\",\"Albanian\",\"Shanghainese\",\"Icelandic\",\"Belarusian\",\"Romanian\",\"Dutch\",\"American Sign Language\",\"Greek\",\"Sindarin\",\"Kurdish\",\"Egyptian (Ancient)\",\"Swahili\",\"Punjabi\",\"Turkish\",\"Greenlandic\",\"Sanskrit\",\"Hmong\",\"Esperanto\",\"Arabic\",\"Sinhalese\",\"Korean\",\"Xhosa\",\"Aramaic\",\"Mende\",\"Swiss German\",\"Thai\",\"Scottish Gaelic\",\"Hebrew\",\"Ukrainian\",\"Estonian\",\"Tamil\",\"Ungwatsi\",\"Luxembourgish\",\"Yiddish\",\"Slovak\",\"Indonesian\",\"Spanish\",\"Irish\",\"Zulu\",\"Navajo\",\"Inuktitut\",\"Bosnian'"
      ]
     },
     "execution_count": 7,
     "metadata": {},
     "output_type": "execute_result"
    }
   ],
   "source": [
    "df.replace('\t', '\",\"')"
   ]
  },
  {
   "cell_type": "code",
   "execution_count": null,
   "metadata": {},
   "outputs": [],
   "source": []
  }
 ],
 "metadata": {
  "kernelspec": {
   "display_name": "Python 3",
   "language": "python",
   "name": "python3"
  },
  "language_info": {
   "codemirror_mode": {
    "name": "ipython",
    "version": 3
   },
   "file_extension": ".py",
   "mimetype": "text/x-python",
   "name": "python",
   "nbconvert_exporter": "python",
   "pygments_lexer": "ipython3",
   "version": "3.6.8"
  }
 },
 "nbformat": 4,
 "nbformat_minor": 2
}
